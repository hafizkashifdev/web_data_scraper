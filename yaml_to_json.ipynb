{
 "cells": [
  {
   "cell_type": "code",
   "execution_count": 1,
   "id": "db6300bc",
   "metadata": {},
   "outputs": [],
   "source": [
    "# Converts all YAML files in a directory to JSON files\n",
    "import os\n",
    "import glob\n",
    "import yaml\n",
    "import json\n",
    "from datetime import datetime"
   ]
  },
  {
   "cell_type": "code",
   "execution_count": 2,
   "id": "83630856",
   "metadata": {},
   "outputs": [
    {
     "name": "stdout",
     "output_type": "stream",
     "text": [
      "Converted: Banks API's json files\\Banco Santander\\Account and Transactions V3 Sandbox (1).yaml -> Banks API's json files\\Banco Santander\\Account and Transactions V3 Sandbox (1).json\n",
      "Converted: Banks API's json files\\Banco Santander\\Confirmation of Funds V3 Sandbox.yaml -> Banks API's json files\\Banco Santander\\Confirmation of Funds V3 Sandbox.json\n",
      "Converted: Banks API's json files\\BNP Paribas\\20220216105748-Cash Account Services-1.0.6.yaml -> Banks API's json files\\BNP Paribas\\20220216105748-Cash Account Services-1.0.6.json\n",
      "Converted: Banks API's json files\\BNP Paribas\\autoreg_0.yaml -> Banks API's json files\\BNP Paribas\\autoreg_0.json\n",
      "Converted: Banks API's json files\\BNP Paribas\\BNP_CIB_CNX_PSD2_VSTET1.4_OAS3_v.1.4.0.47I3_0.yaml -> Banks API's json files\\BNP Paribas\\BNP_CIB_CNX_PSD2_VSTET1.4_OAS3_v.1.4.0.47I3_0.json\n",
      "Converted: Banks API's json files\\BNP Paribas\\Demand-Guarantee-0.0.3-swagger 1 1.yaml -> Banks API's json files\\BNP Paribas\\Demand-Guarantee-0.0.3-swagger 1 1.json\n",
      "Converted: Banks API's json files\\BNP Paribas\\index-data-public_1.0.0.yaml -> Banks API's json files\\BNP Paribas\\index-data-public_1.0.0.json\n",
      "Converted: Banks API's json files\\BNP Paribas\\payment-initiation-1.9.2.yml -> Banks API's json files\\BNP Paribas\\payment-initiation-1.9.2.json\n",
      "Converted: Banks API's json files\\Citi bank\\account-notifications-api.yaml -> Banks API's json files\\Citi bank\\account-notifications-api.json\n",
      "Converted: Banks API's json files\\Citi bank\\authentication_api_3.yaml -> Banks API's json files\\Citi bank\\authentication_api_3.json\n",
      "Converted: Banks API's json files\\Citi bank\\balances_api.yaml -> Banks API's json files\\Citi bank\\balances_api.json\n",
      "Converted: Banks API's json files\\Citi bank\\id-provisioning.yaml -> Banks API's json files\\Citi bank\\id-provisioning.json\n",
      "Converted: Banks API's json files\\Citi bank\\statements_api.yaml -> Banks API's json files\\Citi bank\\statements_api.json\n",
      "Converted: Banks API's json files\\Citi bank\\virtual-cards-lifecycle-v4.yaml -> Banks API's json files\\Citi bank\\virtual-cards-lifecycle-v4.json\n",
      "Converted: Banks API's json files\\Citi bank\\virtual-cards-reporting.yaml -> Banks API's json files\\Citi bank\\virtual-cards-reporting.json\n",
      "Converted: Banks API's json files\\HSBC Bank\\account-info-4.0-HSBCnet (2) (1).yaml -> Banks API's json files\\HSBC Bank\\account-info-4.0-HSBCnet (2) (1).json\n",
      "Converted: Banks API's json files\\HSBC Bank\\account-info-4.0-HSBCnet (2).yaml -> Banks API's json files\\HSBC Bank\\account-info-4.0-HSBCnet (2).json\n",
      "Converted: Banks API's json files\\HSBC Bank\\DCR_Swagger.yaml -> Banks API's json files\\HSBC Bank\\DCR_Swagger.json\n",
      "Converted: Banks API's json files\\HSBC Bank\\event-notification-4.0 (1).yaml -> Banks API's json files\\HSBC Bank\\event-notification-4.0 (1).json\n",
      "Converted: Banks API's json files\\HSBC Bank\\funds-confirmation-4.0-HSBCnet (1).yaml -> Banks API's json files\\HSBC Bank\\funds-confirmation-4.0-HSBCnet (1).json\n",
      "Converted: Banks API's json files\\HSBC Bank\\funds-confirmation-4.0-HSBCnet.yaml -> Banks API's json files\\HSBC Bank\\funds-confirmation-4.0-HSBCnet.json\n",
      "Converted: Banks API's json files\\HSBC Bank\\MIVision_Accounts_Swagger (4).yaml -> Banks API's json files\\HSBC Bank\\MIVision_Accounts_Swagger (4).json\n",
      "Converted: Banks API's json files\\HSBC Bank\\MIVision_Funds_Swagger (2).yaml -> Banks API's json files\\HSBC Bank\\MIVision_Funds_Swagger (2).json\n",
      "Converted: Banks API's json files\\HSBC Bank\\payment-initiation-4.0-HSBCnet (2) (1).yaml -> Banks API's json files\\HSBC Bank\\payment-initiation-4.0-HSBCnet (2) (1).json\n",
      "Converted: Banks API's json files\\HSBC Bank\\payment-initiation-4.0-HSBCnet (2).yaml -> Banks API's json files\\HSBC Bank\\payment-initiation-4.0-HSBCnet (2).json\n",
      "Converted: Banks API's json files\\HSBC Bank\\vrp-4.0-dbb (3).yaml -> Banks API's json files\\HSBC Bank\\vrp-4.0-dbb (3).json\n",
      "Converted: Banks API's json files\\HSBC Bank\\vrp-4.0-kinetic (3).yaml -> Banks API's json files\\HSBC Bank\\vrp-4.0-kinetic (3).json\n",
      "Converted: Banks API's json files\\HSBC Bank\\vrp-4.0-personal (3).yaml -> Banks API's json files\\HSBC Bank\\vrp-4.0-personal (3).json\n",
      "Converted: Banks API's json files\\SAINSBURY'S BANK PLC\\account-info-swagger.yaml -> Banks API's json files\\SAINSBURY'S BANK PLC\\account-info-swagger.json\n",
      "Converted: Banks API's json files\\SAINSBURY'S BANK PLC\\authentication-swagger.yaml -> Banks API's json files\\SAINSBURY'S BANK PLC\\authentication-swagger.json\n",
      "Converted: Banks API's json files\\SAINSBURY'S BANK PLC\\client-registration-swagger.yaml -> Banks API's json files\\SAINSBURY'S BANK PLC\\client-registration-swagger.json\n",
      "Converted: Banks API's json files\\SAINSBURY'S BANK PLC\\confirmation-of-funds-swagger.yaml -> Banks API's json files\\SAINSBURY'S BANK PLC\\confirmation-of-funds-swagger.json\n",
      "Converted: Banks API's json files\\Tide\\accounts_&_transaction_API's.yaml -> Banks API's json files\\Tide\\accounts_&_transaction_API's.json\n",
      "Converted: Banks API's json files\\Tide\\confitmation_of_funds_API's.yaml -> Banks API's json files\\Tide\\confitmation_of_funds_API's.json\n",
      "Converted: Banks API's json files\\Tide\\payments_initiation_API's.yaml -> Banks API's json files\\Tide\\payments_initiation_API's.json\n",
      "Converted: Banks API's json files\\Tide\\tide-ais-schema.yaml -> Banks API's json files\\Tide\\tide-ais-schema.json\n",
      "Converted: Banks API's json files\\Tide\\tide-pis-schema.yaml -> Banks API's json files\\Tide\\tide-pis-schema.json\n",
      "Converted: Banks API's json files\\Tide\\volt-global-api-openapi.yaml -> Banks API's json files\\Tide\\volt-global-api-openapi.json\n",
      "Converted: Banks API's json files\\VOLT TECHNOLOGIES LIMITED\\volt-global-api-openapi.yaml -> Banks API's json files\\VOLT TECHNOLOGIES LIMITED\\volt-global-api-openapi.json\n",
      "Converted: Banks API's json files\\Wells Fargo National Association Bank\\account-balance-swagger-v2.yaml -> Banks API's json files\\Wells Fargo National Association Bank\\account-balance-swagger-v2.json\n",
      "Converted: Banks API's json files\\Wells Fargo National Association Bank\\ach-payments-swagger-v2.yaml -> Banks API's json files\\Wells Fargo National Association Bank\\ach-payments-swagger-v2.json\n",
      "Converted: Banks API's json files\\Wells Fargo National Association Bank\\confirmation-of-funds-swagger-v3_1.yaml -> Banks API's json files\\Wells Fargo National Association Bank\\confirmation-of-funds-swagger-v3_1.json\n",
      "Converted: Banks API's json files\\Wells Fargo National Association Bank\\credit-card-products-swagger-v2.yaml -> Banks API's json files\\Wells Fargo National Association Bank\\credit-card-products-swagger-v2.json\n",
      "Converted: Banks API's json files\\Wells Fargo National Association Bank\\foreign-exchange-swagger-v3.yaml -> Banks API's json files\\Wells Fargo National Association Bank\\foreign-exchange-swagger-v3.json\n",
      "Converted: Banks API's json files\\Wells Fargo National Association Bank\\image-retrieval-swagger-v2.yaml -> Banks API's json files\\Wells Fargo National Association Bank\\image-retrieval-swagger-v2.json\n",
      "Converted: Banks API's json files\\Wells Fargo National Association Bank\\payment-initiation-swagger-v3_1.yaml -> Banks API's json files\\Wells Fargo National Association Bank\\payment-initiation-swagger-v3_1.json\n",
      "Converted: Banks API's json files\\Wells Fargo National Association Bank\\positive-pay-swagger-v1.yaml -> Banks API's json files\\Wells Fargo National Association Bank\\positive-pay-swagger-v1.json\n",
      "Converted: Banks API's json files\\Wells Fargo National Association Bank\\push-to-card-swagger-v2.yaml -> Banks API's json files\\Wells Fargo National Association Bank\\push-to-card-swagger-v2.json\n",
      "Converted: Banks API's json files\\Wells Fargo National Association Bank\\transaction-detail-swagger-v3.yaml -> Banks API's json files\\Wells Fargo National Association Bank\\transaction-detail-swagger-v3.json\n",
      "Converted: Banks API's json files\\Wells Fargo National Association Bank\\wellsfargo-locations-swagger-v2.yaml -> Banks API's json files\\Wells Fargo National Association Bank\\wellsfargo-locations-swagger-v2.json\n",
      "Converted: Banks API's json files\\Wells Fargo National Association Bank\\wire-payments-swagger-v1.yaml -> Banks API's json files\\Wells Fargo National Association Bank\\wire-payments-swagger-v1.json\n",
      "Converted: Banks API's json files\\Yorkshire Building Society\\Account-v3.1_0.yaml -> Banks API's json files\\Yorkshire Building Society\\Account-v3.1_0.json\n",
      "Converted: Banks API's json files\\Yorkshire Building Society\\Confirmation Of Funds-v3.1_0.yaml -> Banks API's json files\\Yorkshire Building Society\\Confirmation Of Funds-v3.1_0.json\n",
      "Converted: Banks API's json files\\Yorkshire Building Society\\EventSubscription-v3.1_0.yaml -> Banks API's json files\\Yorkshire Building Society\\EventSubscription-v3.1_0.json\n",
      "Converted: Banks API's json files\\Yorkshire Building Society\\Identity-v3.1_1.yaml -> Banks API's json files\\Yorkshire Building Society\\Identity-v3.1_1.json\n",
      "Converted: Banks API's json files\\Yorkshire Building Society\\Payment-v3.1.yaml -> Banks API's json files\\Yorkshire Building Society\\Payment-v3.1.json\n",
      "Converted: Banks API's json files\\Yorkshire Building Society\\Registration-v3.1_0.yaml -> Banks API's json files\\Yorkshire Building Society\\Registration-v3.1_0.json\n"
     ]
    }
   ],
   "source": [
    "# Custom converter to handle non-serializable types\n",
    "def default_converter(o):\n",
    "    if isinstance(o, datetime):\n",
    "        return o.isoformat()\n",
    "    return str(o)\n",
    "\n",
    "# Set your main directory path here\n",
    "main_directory = \"Banks API's json files\"\n",
    "\n",
    "for root, dirs, files in os.walk(main_directory):\n",
    "    yaml_files = glob.glob(os.path.join(root, \"*.yaml\")) + glob.glob(os.path.join(root, \"*.yml\"))\n",
    "    for yaml_file in yaml_files:\n",
    "        base = os.path.splitext(os.path.basename(yaml_file))[0]\n",
    "        json_file = os.path.join(root, base + \".json\")\n",
    "        with open(yaml_file, 'r', encoding='utf-8') as yf:\n",
    "            data = yaml.safe_load(yf)\n",
    "        with open(json_file, 'w', encoding='utf-8') as jf:\n",
    "            json.dump(data, jf, indent=2, default=default_converter)\n",
    "        print(f\"Converted: {yaml_file} -> {json_file}\")"
   ]
  }
 ],
 "metadata": {
  "kernelspec": {
   "display_name": "base",
   "language": "python",
   "name": "python3"
  },
  "language_info": {
   "codemirror_mode": {
    "name": "ipython",
    "version": 3
   },
   "file_extension": ".py",
   "mimetype": "text/x-python",
   "name": "python",
   "nbconvert_exporter": "python",
   "pygments_lexer": "ipython3",
   "version": "3.12.3"
  }
 },
 "nbformat": 4,
 "nbformat_minor": 5
}
