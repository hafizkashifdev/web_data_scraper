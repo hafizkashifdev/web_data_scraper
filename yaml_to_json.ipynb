{
 "cells": [
  {
   "cell_type": "code",
   "execution_count": 3,
   "id": "db6300bc",
   "metadata": {},
   "outputs": [],
   "source": [
    "# Converts all YAML files in a directory to JSON files\n",
    "import os\n",
    "import glob\n",
    "import yaml\n",
    "import json"
   ]
  },
  {
   "cell_type": "code",
   "execution_count": 4,
   "id": "83630856",
   "metadata": {},
   "outputs": [
    {
     "name": "stdout",
     "output_type": "stream",
     "text": [
      "Converted: c:\\Users\\Zeeshan Ahmed\\Desktop\\My data\\web_data_scraper\\Banks API's json files\\BNP Paribas\\20220216105748-Cash Account Services-1.0.6.yaml -> c:\\Users\\Zeeshan Ahmed\\Desktop\\My data\\web_data_scraper\\Banks API's json files\\BNP Paribas\\20220216105748-Cash Account Services-1.0.6.json\n",
      "Converted: c:\\Users\\Zeeshan Ahmed\\Desktop\\My data\\web_data_scraper\\Banks API's json files\\BNP Paribas\\autoreg_0.yaml -> c:\\Users\\Zeeshan Ahmed\\Desktop\\My data\\web_data_scraper\\Banks API's json files\\BNP Paribas\\autoreg_0.json\n",
      "Converted: c:\\Users\\Zeeshan Ahmed\\Desktop\\My data\\web_data_scraper\\Banks API's json files\\BNP Paribas\\BNP_CIB_CNX_PSD2_VSTET1.4_OAS3_v.1.4.0.47I3_0.yaml -> c:\\Users\\Zeeshan Ahmed\\Desktop\\My data\\web_data_scraper\\Banks API's json files\\BNP Paribas\\BNP_CIB_CNX_PSD2_VSTET1.4_OAS3_v.1.4.0.47I3_0.json\n",
      "Converted: c:\\Users\\Zeeshan Ahmed\\Desktop\\My data\\web_data_scraper\\Banks API's json files\\BNP Paribas\\Demand-Guarantee-0.0.3-swagger 1 1.yaml -> c:\\Users\\Zeeshan Ahmed\\Desktop\\My data\\web_data_scraper\\Banks API's json files\\BNP Paribas\\Demand-Guarantee-0.0.3-swagger 1 1.json\n",
      "Converted: c:\\Users\\Zeeshan Ahmed\\Desktop\\My data\\web_data_scraper\\Banks API's json files\\BNP Paribas\\index-data-public_1.0.0.yaml -> c:\\Users\\Zeeshan Ahmed\\Desktop\\My data\\web_data_scraper\\Banks API's json files\\BNP Paribas\\index-data-public_1.0.0.json\n",
      "Converted: c:\\Users\\Zeeshan Ahmed\\Desktop\\My data\\web_data_scraper\\Banks API's json files\\BNP Paribas\\payment-initiation-1.9.2.yml -> c:\\Users\\Zeeshan Ahmed\\Desktop\\My data\\web_data_scraper\\Banks API's json files\\BNP Paribas\\payment-initiation-1.9.2.json\n"
     ]
    }
   ],
   "source": [
    "# Set your directory path here\n",
    "directory = r\"c:\\Users\\Zeeshan Ahmed\\Desktop\\My data\\web_data_scraper\\Banks API's json files\\BNP Paribas\"\n",
    "\n",
    "# Find all .yaml and .yml files in the directory\n",
    "yaml_files = glob.glob(os.path.join(directory, \"*.yaml\")) + glob.glob(os.path.join(directory, \"*.yml\"))\n",
    "\n",
    "for yaml_file in yaml_files:\n",
    "    json_file = os.path.splitext(yaml_file)[0] + \".json\"\n",
    "    with open(yaml_file, 'r', encoding='utf-8') as yf:\n",
    "        data = yaml.safe_load(yf)\n",
    "    with open(json_file, 'w', encoding='utf-8') as jf:\n",
    "        json.dump(data, jf, indent=2)\n",
    "    print(f\"Converted: {yaml_file} -> {json_file}\")"
   ]
  }
 ],
 "metadata": {
  "kernelspec": {
   "display_name": "base",
   "language": "python",
   "name": "python3"
  },
  "language_info": {
   "codemirror_mode": {
    "name": "ipython",
    "version": 3
   },
   "file_extension": ".py",
   "mimetype": "text/x-python",
   "name": "python",
   "nbconvert_exporter": "python",
   "pygments_lexer": "ipython3",
   "version": "3.12.3"
  }
 },
 "nbformat": 4,
 "nbformat_minor": 5
}
