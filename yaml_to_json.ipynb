{
 "cells": [
  {
   "cell_type": "code",
   "execution_count": 1,
   "id": "db6300bc",
   "metadata": {},
   "outputs": [],
   "source": [
    "# Converts all YAML files in a directory to JSON files\n",
    "import os\n",
    "import glob\n",
    "import yaml\n",
    "import json"
   ]
  },
  {
   "cell_type": "code",
   "execution_count": 2,
   "id": "83630856",
   "metadata": {},
   "outputs": [
    {
     "name": "stdout",
     "output_type": "stream",
     "text": [
      "Converted: Banks API's json files/Citi bank\\account-notifications-api.yaml -> Banks API's json files/Citi bank\\account-notifications-api.json\n",
      "Converted: Banks API's json files/Citi bank\\authentication_api_3.yaml -> Banks API's json files/Citi bank\\authentication_api_3.json\n",
      "Converted: Banks API's json files/Citi bank\\balances_api.yaml -> Banks API's json files/Citi bank\\balances_api.json\n",
      "Converted: Banks API's json files/Citi bank\\id-provisioning.yaml -> Banks API's json files/Citi bank\\id-provisioning.json\n",
      "Converted: Banks API's json files/Citi bank\\statements_api.yaml -> Banks API's json files/Citi bank\\statements_api.json\n",
      "Converted: Banks API's json files/Citi bank\\virtual-cards-lifecycle-v4.yaml -> Banks API's json files/Citi bank\\virtual-cards-lifecycle-v4.json\n",
      "Converted: Banks API's json files/Citi bank\\virtual-cards-reporting.yaml -> Banks API's json files/Citi bank\\virtual-cards-reporting.json\n"
     ]
    }
   ],
   "source": [
    "# Set your directory path here\n",
    "directory = r\"Banks API's json files/Citi bank\"\n",
    "\n",
    "# Find all .yaml and .yml files in the directory\n",
    "yaml_files = glob.glob(os.path.join(directory, \"*.yaml\")) + glob.glob(os.path.join(directory, \"*.yml\"))\n",
    "\n",
    "for yaml_file in yaml_files:\n",
    "    json_file = os.path.splitext(yaml_file)[0] + \".json\"\n",
    "    with open(yaml_file, 'r', encoding='utf-8') as yf:\n",
    "        data = yaml.safe_load(yf)\n",
    "    with open(json_file, 'w', encoding='utf-8') as jf:\n",
    "        json.dump(data, jf, indent=2)\n",
    "    print(f\"Converted: {yaml_file} -> {json_file}\")"
   ]
  }
 ],
 "metadata": {
  "kernelspec": {
   "display_name": "base",
   "language": "python",
   "name": "python3"
  },
  "language_info": {
   "codemirror_mode": {
    "name": "ipython",
    "version": 3
   },
   "file_extension": ".py",
   "mimetype": "text/x-python",
   "name": "python",
   "nbconvert_exporter": "python",
   "pygments_lexer": "ipython3",
   "version": "3.12.3"
  }
 },
 "nbformat": 4,
 "nbformat_minor": 5
}
